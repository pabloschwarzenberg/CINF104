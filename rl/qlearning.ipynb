{
 "cells": [
  {
   "cell_type": "code",
   "execution_count": 1,
   "metadata": {},
   "outputs": [],
   "source": [
    "import numpy as np\n",
    "import matplotlib.pyplot as plt\n",
    "import random\n",
    "import math\n",
    "import pandas as pd"
   ]
  },
  {
   "cell_type": "code",
   "execution_count": 3,
   "metadata": {},
   "outputs": [],
   "source": [
    "def get_actions(s_t,visited=[]):\n",
    "    actions=[]\n",
    "    if s_t in [[1,3],[2,3],[3,3],[3,2],[3,1]]:\n",
    "        return actions\n",
    "    u=s_t[0]-1\n",
    "    d=s_t[0]+1\n",
    "    l=s_t[1]-1\n",
    "    r=s_t[1]+1\n",
    "    if u>=1 and u<=3 and [u,s_t[1]] not in visited:\n",
    "        actions.append(\"u\")\n",
    "    if d>=1 and d<=3 and [d,s_t[1]] not in visited:\n",
    "        actions.append(\"d\")\n",
    "    if l>=1 and l<=3 and [s_t[0],l] not in visited:\n",
    "        actions.append(\"l\")\n",
    "    if r>=1 and r<=3 and [s_t[0],r] not in visited:\n",
    "        actions.append(\"r\")\n",
    "    return actions"
   ]
  },
  {
   "cell_type": "code",
   "execution_count": 6,
   "metadata": {},
   "outputs": [],
   "source": [
    "def get_next_and_reward(s_t,a_t):\n",
    "    environment=[\n",
    "        [0,3,3],\n",
    "        [3,3,-10],\n",
    "        [10,0,0]\n",
    "    ]\n",
    "    s_t_1=[s_t[0],s_t[1]]\n",
    "    if a_t==\"u\":\n",
    "        s_t_1[0]=s_t_1[0]-1\n",
    "    elif a_t==\"d\":\n",
    "        s_t_1[0]=s_t_1[0]+1\n",
    "    elif a_t==\"l\":\n",
    "        s_t_1[1]=s_t_1[1]-1\n",
    "    elif a_t==\"r\":\n",
    "        s_t_1[1]=s_t_1[1]+1\n",
    "    if s_t_1[0]<1 or s_t_1[0]>3 or s_t_1[1]<1 or s_t_1[1]>3:\n",
    "        s_t_1=None\n",
    "        r_s_a=-100\n",
    "    else:\n",
    "        r_s_a=environment[s_t_1[0]-1][s_t_1[1]-1]\n",
    "    return s_t_1,r_s_a"
   ]
  },
  {
   "cell_type": "code",
   "execution_count": 7,
   "metadata": {},
   "outputs": [],
   "source": [
    "def maxQ(Q,s_t,visited=[]):\n",
    "    max_qi=0\n",
    "    a_t=None\n",
    "    actions=get_actions(s_t,visited=visited)\n",
    "    for a in actions:\n",
    "        qi=Q[(s_t[0],s_t[1],a)]\n",
    "        if qi>=max_qi:\n",
    "            a_t=a\n",
    "            max_qi=qi\n",
    "    return a_t,max_qi "
   ]
  },
  {
   "cell_type": "code",
   "execution_count": 8,
   "metadata": {},
   "outputs": [],
   "source": [
    "def episode(Q,s_t,alfa,gamma,epsilon,trace=False,trace_search=False):\n",
    "    end=False\n",
    "    visited=[]\n",
    "    while not end:\n",
    "        visited.append(s_t)\n",
    "        p=random.uniform(0,1)\n",
    "        actions=get_actions(s_t,visited=visited)\n",
    "        if len(actions)>0:\n",
    "            if p<epsilon:\n",
    "                a_t=random.choice(actions)\n",
    "                if trace_search:\n",
    "                    print(\"E\",end=\"\")\n",
    "            else:\n",
    "                a_t,_=maxQ(Q,s_t,visited=visited)\n",
    "                if trace_search:\n",
    "                    print(\"X\",end=\"\")\n",
    "            s_t_1,r_s_a=get_next_and_reward(s_t,a_t)\n",
    "            if s_t_1 is not None:\n",
    "                _,max_qi=maxQ(Q,s_t_1,visited=visited)\n",
    "                Q[(s_t[0],s_t[1],a_t)]=Q[s_t[0],s_t[1],a_t]+alfa*(r_s_a+gamma*max_qi-Q[s_t[0],s_t[1],a_t])\n",
    "                if trace:\n",
    "                    print(s_t,actions,a_t,s_t_1,r_s_a,visited)\n",
    "                s_t=s_t_1\n",
    "            else:\n",
    "                if trace:\n",
    "                    print(\"Fin Episodio\",s_t,a_t)\n",
    "                end=True\n",
    "        else:\n",
    "            if trace:    \n",
    "                print(\"Fin Episodio\",s_t)\n",
    "            end=True"
   ]
  },
  {
   "cell_type": "code",
   "execution_count": 9,
   "metadata": {},
   "outputs": [],
   "source": [
    "Q={}\n",
    "S=[]\n",
    "A=[\"d\",\"u\",\"r\",\"l\"]\n",
    "for i in [1,2,3]:\n",
    "    for j in [1,2,3]:\n",
    "        S.append([i,j])\n",
    "        for a in A:\n",
    "            Q[(i,j,a)]=0\n",
    "epochs=1000\n",
    "epsilon=1\n",
    "for step in range(epochs):\n",
    "    episode(Q,[1,1],alfa=1,gamma=1,epsilon=epsilon)\n",
    "    epsilon=math.exp(-5/epochs*step)"
   ]
  },
  {
   "cell_type": "code",
   "execution_count": 10,
   "metadata": {},
   "outputs": [
    {
     "data": {
      "text/html": [
       "<div>\n",
       "<style scoped>\n",
       "    .dataframe tbody tr th:only-of-type {\n",
       "        vertical-align: middle;\n",
       "    }\n",
       "\n",
       "    .dataframe tbody tr th {\n",
       "        vertical-align: top;\n",
       "    }\n",
       "\n",
       "    .dataframe thead th {\n",
       "        text-align: right;\n",
       "    }\n",
       "</style>\n",
       "<table border=\"1\" class=\"dataframe\">\n",
       "  <thead>\n",
       "    <tr style=\"text-align: right;\">\n",
       "      <th></th>\n",
       "      <th>Q</th>\n",
       "      <th>d</th>\n",
       "      <th>u</th>\n",
       "      <th>r</th>\n",
       "      <th>l</th>\n",
       "    </tr>\n",
       "  </thead>\n",
       "  <tbody>\n",
       "    <tr>\n",
       "      <th>0</th>\n",
       "      <td>Q[(1,1)]</td>\n",
       "      <td>13</td>\n",
       "      <td>0</td>\n",
       "      <td>19</td>\n",
       "      <td>0</td>\n",
       "    </tr>\n",
       "    <tr>\n",
       "      <th>1</th>\n",
       "      <td>Q[(1,2)]</td>\n",
       "      <td>16</td>\n",
       "      <td>0</td>\n",
       "      <td>3</td>\n",
       "      <td>0</td>\n",
       "    </tr>\n",
       "    <tr>\n",
       "      <th>2</th>\n",
       "      <td>Q[(1,3)]</td>\n",
       "      <td>0</td>\n",
       "      <td>0</td>\n",
       "      <td>0</td>\n",
       "      <td>0</td>\n",
       "    </tr>\n",
       "    <tr>\n",
       "      <th>3</th>\n",
       "      <td>Q[(2,1)]</td>\n",
       "      <td>10</td>\n",
       "      <td>0</td>\n",
       "      <td>9</td>\n",
       "      <td>0</td>\n",
       "    </tr>\n",
       "    <tr>\n",
       "      <th>4</th>\n",
       "      <td>Q[(2,2)]</td>\n",
       "      <td>0</td>\n",
       "      <td>6</td>\n",
       "      <td>-10</td>\n",
       "      <td>13</td>\n",
       "    </tr>\n",
       "    <tr>\n",
       "      <th>5</th>\n",
       "      <td>Q[(2,3)]</td>\n",
       "      <td>0</td>\n",
       "      <td>0</td>\n",
       "      <td>0</td>\n",
       "      <td>0</td>\n",
       "    </tr>\n",
       "    <tr>\n",
       "      <th>6</th>\n",
       "      <td>Q[(3,1)]</td>\n",
       "      <td>0</td>\n",
       "      <td>0</td>\n",
       "      <td>0</td>\n",
       "      <td>0</td>\n",
       "    </tr>\n",
       "    <tr>\n",
       "      <th>7</th>\n",
       "      <td>Q[(3,2)]</td>\n",
       "      <td>0</td>\n",
       "      <td>0</td>\n",
       "      <td>0</td>\n",
       "      <td>0</td>\n",
       "    </tr>\n",
       "    <tr>\n",
       "      <th>8</th>\n",
       "      <td>Q[(3,3)]</td>\n",
       "      <td>0</td>\n",
       "      <td>0</td>\n",
       "      <td>0</td>\n",
       "      <td>0</td>\n",
       "    </tr>\n",
       "  </tbody>\n",
       "</table>\n",
       "</div>"
      ],
      "text/plain": [
       "          Q   d  u   r   l\n",
       "0  Q[(1,1)]  13  0  19   0\n",
       "1  Q[(1,2)]  16  0   3   0\n",
       "2  Q[(1,3)]   0  0   0   0\n",
       "3  Q[(2,1)]  10  0   9   0\n",
       "4  Q[(2,2)]   0  6 -10  13\n",
       "5  Q[(2,3)]   0  0   0   0\n",
       "6  Q[(3,1)]   0  0   0   0\n",
       "7  Q[(3,2)]   0  0   0   0\n",
       "8  Q[(3,3)]   0  0   0   0"
      ]
     },
     "execution_count": 10,
     "metadata": {},
     "output_type": "execute_result"
    }
   ],
   "source": [
    "T=[]\n",
    "A=[\"d\",\"u\",\"r\",\"l\"]\n",
    "header=[\"Q\"]\n",
    "header.extend(A)\n",
    "T.append(header)\n",
    "for i in [1,2,3]:\n",
    "    for j in [1,2,3]:\n",
    "        t=[]\n",
    "        t.append(\"Q[({0},{1})]\".format(i,j))\n",
    "        for a in A:\n",
    "            t.append(Q[(i,j,a)])\n",
    "        T.append(t)\n",
    "pd.DataFrame(T[1:],columns=T[0])"
   ]
  },
  {
   "cell_type": "code",
   "execution_count": 8,
   "metadata": {},
   "outputs": [
    {
     "data": {
      "text/plain": [
       "[<matplotlib.lines.Line2D at 0x11b89cad0>]"
      ]
     },
     "execution_count": 8,
     "metadata": {},
     "output_type": "execute_result"
    },
    {
     "data": {
      "image/png": "[encoded data removed]",
      "text/plain": [
       "<Figure size 640x480 with 1 Axes>"
      ]
     },
     "metadata": {},
     "output_type": "display_data"
    }
   ],
   "source": [
    "x=np.asarray([i for i in range(1000)])\n",
    "y=np.exp(-5/1000*x)\n",
    "plt.plot(x,y)"
   ]
  }
 ],
 "metadata": {
  "kernelspec": {
   "display_name": "Python 3",
   "language": "python",
   "name": "python3"
  },
  "language_info": {
   "codemirror_mode": {
    "name": "ipython",
    "version": 3
   },
   "file_extension": ".py",
   "mimetype": "text/x-python",
   "name": "python",
   "nbconvert_exporter": "python",
   "pygments_lexer": "ipython3",
   "version": "3.11.8"
  }
 },
 "nbformat": 4,
 "nbformat_minor": 2
}
