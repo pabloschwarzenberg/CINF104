{
 "cells": [
  {
   "cell_type": "code",
   "execution_count": 27,
   "metadata": {},
   "outputs": [],
   "source": [
    "import numpy as np\n",
    "import pandas as pd\n",
    "import datetime"
   ]
  },
  {
   "cell_type": "code",
   "execution_count": 28,
   "metadata": {},
   "outputs": [],
   "source": [
    "dataset=pd.read_csv(\"../dataset.csv\",sep=\";\")\n",
    "dataset.drop([\"node\"],inplace=True,axis=1)\n",
    "dataset[\"date\"]=pd.to_datetime(dataset[\"date\"],format=\"%Y-%m-%d %H:%M:%S\")\n",
    "train=dataset.query(\"date.dt.year>2017 and date.dt.year <2022\")\n",
    "train=train.set_index(\"date\")\n",
    "test=dataset.query(\"date.dt.year==2022\")\n",
    "test=test.set_index(\"date\")"
   ]
  },
  {
   "cell_type": "code",
   "execution_count": 29,
   "metadata": {},
   "outputs": [],
   "source": [
    "t_media=pd.read_csv(\"../temperaturas/DMC_330020_Quinta_Normal_Santiago_media.csv\",sep=\";\")\n",
    "t_media[\"date\"]=pd.to_datetime(t_media[\"date\"],format=\"%Y-%m-%d %H:%M:%S\")\n",
    "t_media=t_media.set_index(\"date\")\n",
    "fin= datetime.datetime.strptime(\"2023-01-01 00:00:00\", '%Y-%m-%d %H:%M:%S')\n",
    "t_media_fin=t_media.loc[fin]\n",
    "t_media=t_media.query(\"date.dt.year>2017 and date.dt.year<2023\")\n",
    "t_media.loc[fin]=t_media_fin\n",
    "t_media_hora=t_media.resample(\"1h\").ffill()\n",
    "t_media_train=t_media_hora.query(\"date.dt.year>2017 and date.dt.year<2022\")\n",
    "t_media_test=t_media_hora.query(\"date.dt.year==2022\")"
   ]
  },
  {
   "cell_type": "code",
   "execution_count": 30,
   "metadata": {},
   "outputs": [],
   "source": [
    "subestaciones=[\"AJAHUEL\",\"BUIN\",\"CHENA\",\"CNAVIA\",\"ELSALTO\",\"FLORIDA\",\"LOSALME\"]\n",
    "for subestacion in subestaciones:\n",
    "    filtro=\"substation=='{0}'\".format(subestacion)\n",
    "    ds_train=train.query(filtro)[\"consumption\"].groupby(\"date\").aggregate(consumption=\"mean\")\n",
    "    ds_test=test.query(filtro)[\"consumption\"].groupby(\"date\").aggregate(consumption=\"mean\")\n",
    "    deltas = 365*24*4\n",
    "    #agregamos un día al rango por el año bisiesto 2020\n",
    "    deltas+=24\n",
    "    start = datetime.datetime.strptime(\"2018-01-01 00:00:00\", '%Y-%m-%d %H:%M:%S')\n",
    "    train_full = [start + datetime.timedelta(hours=x) for x in range(deltas)]\n",
    "    deltas = 365*24\n",
    "    start = datetime.datetime.strptime(\"2022-01-01 00:00:00\", '%Y-%m-%d %H:%M:%S')\n",
    "    test_full = [start + datetime.timedelta(hours=x) for x in range(deltas)]\n",
    "    missing_train=[]\n",
    "    for fecha in train_full:\n",
    "        if not (fecha in ds_train.index):\n",
    "            missing_train.append(fecha)\n",
    "    missing_test=[]\n",
    "    for fecha in test_full:\n",
    "        if not (fecha in ds_test.index): \n",
    "            missing_test.append(fecha)\n",
    "    for missing in missing_test:\n",
    "        delta=1\n",
    "        hora_previa=missing-datetime.timedelta(hours=delta)\n",
    "        while(not (hora_previa in ds_test.index)):\n",
    "            delta=delta+1\n",
    "            hora_previa=missing-datetime.timedelta(hours=delta)\n",
    "        delta=1\n",
    "        hora_siguiente=missing+datetime.timedelta(hours=delta)\n",
    "        while(not (hora_siguiente in ds_test.index)):\n",
    "            delta=delta+1\n",
    "            hora_siguiente=missing+datetime.timedelta(hours=delta)\n",
    "\n",
    "        consumo_previo=ds_test.loc[hora_previa][\"consumption\"]\n",
    "        consumo_siguiente=ds_test.loc[hora_siguiente][\"consumption\"]\n",
    "        consumo_faltante=(consumo_previo+consumo_siguiente)/2\n",
    "        ds_test.loc[missing]=[consumo_faltante] \n",
    "    for missing in missing_train:\n",
    "        delta=1\n",
    "        hora_previa=missing-datetime.timedelta(hours=delta)\n",
    "        while(not (hora_previa in ds_train.index)):\n",
    "            delta=delta+1\n",
    "            hora_previa=missing-datetime.timedelta(hours=delta)\n",
    "        delta=1\n",
    "        hora_siguiente=missing+datetime.timedelta(hours=delta)\n",
    "        while(not (hora_siguiente in ds_train.index)):\n",
    "            delta=delta+1\n",
    "            hora_siguiente=missing+datetime.timedelta(hours=delta)\n",
    "            \n",
    "        consumo_previo=ds_train.loc[hora_previa][\"consumption\"]\n",
    "        consumo_siguiente=ds_train.loc[hora_siguiente][\"consumption\"]\n",
    "        consumo_faltante=(consumo_previo+consumo_siguiente)/2\n",
    "        ds_train.loc[missing]=[consumo_faltante]\n",
    "    ds_train.sort_index(inplace=True)\n",
    "    ds_test.sort_index(inplace=True)\n",
    "    ds_train=ds_train.join(t_media_train[\"t_media\"])\n",
    "    ds_train[\"w\"]=ds_train.index.dayofweek\n",
    "    ds_train[\"h\"]=ds_train.index.hour\n",
    "    ds_test=ds_test.join(t_media_test[\"t_media\"])\n",
    "    ds_test[\"w\"]=ds_test.index.dayofweek\n",
    "    ds_test[\"h\"]=ds_test.index.hour\n",
    "    ds_train.to_csv(\"train_hora_{0}.csv\".format(subestacion))\n",
    "    ds_test.to_csv(\"test_hora_{0}.csv\".format(subestacion))"
   ]
  }
 ],
 "metadata": {
  "kernelspec": {
   "display_name": "Python 3",
   "language": "python",
   "name": "python3"
  },
  "language_info": {
   "codemirror_mode": {
    "name": "ipython",
    "version": 3
   },
   "file_extension": ".py",
   "mimetype": "text/x-python",
   "name": "python",
   "nbconvert_exporter": "python",
   "pygments_lexer": "ipython3",
   "version": "3.11.9"
  }
 },
 "nbformat": 4,
 "nbformat_minor": 2
}
