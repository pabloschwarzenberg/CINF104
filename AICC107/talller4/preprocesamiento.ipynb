{
 "cells": [
  {
   "cell_type": "code",
   "execution_count": 2,
   "metadata": {},
   "outputs": [
    {
     "data": {
      "text/html": [
       "<div>\n",
       "<style scoped>\n",
       "    .dataframe tbody tr th:only-of-type {\n",
       "        vertical-align: middle;\n",
       "    }\n",
       "\n",
       "    .dataframe tbody tr th {\n",
       "        vertical-align: top;\n",
       "    }\n",
       "\n",
       "    .dataframe thead th {\n",
       "        text-align: right;\n",
       "    }\n",
       "</style>\n",
       "<table border=\"1\" class=\"dataframe\">\n",
       "  <thead>\n",
       "    <tr style=\"text-align: right;\">\n",
       "      <th></th>\n",
       "      <th>id</th>\n",
       "      <th>message</th>\n",
       "      <th>spam</th>\n",
       "    </tr>\n",
       "  </thead>\n",
       "  <tbody>\n",
       "    <tr>\n",
       "      <th>count</th>\n",
       "      <td>5574</td>\n",
       "      <td>5574</td>\n",
       "      <td>5574</td>\n",
       "    </tr>\n",
       "    <tr>\n",
       "      <th>unique</th>\n",
       "      <td>5574</td>\n",
       "      <td>5136</td>\n",
       "      <td>2</td>\n",
       "    </tr>\n",
       "    <tr>\n",
       "      <th>top</th>\n",
       "      <td>1</td>\n",
       "      <td>Sorry Ill call later</td>\n",
       "      <td>0</td>\n",
       "    </tr>\n",
       "    <tr>\n",
       "      <th>freq</th>\n",
       "      <td>1</td>\n",
       "      <td>30</td>\n",
       "      <td>4827</td>\n",
       "    </tr>\n",
       "  </tbody>\n",
       "</table>\n",
       "</div>"
      ],
      "text/plain": [
       "          id               message  spam\n",
       "count   5574                  5574  5574\n",
       "unique  5574                  5136     2\n",
       "top        1  Sorry Ill call later     0\n",
       "freq       1                    30  4827"
      ]
     },
     "execution_count": 2,
     "metadata": {},
     "output_type": "execute_result"
    }
   ],
   "source": [
    "import numpy as np\n",
    "import pandas as pd\n",
    "import string\n",
    "from sklearn.model_selection import train_test_split\n",
    "\n",
    "seed=12122008\n",
    "X=[]\n",
    "Y=[]\n",
    "D=[]\n",
    "translator = str.maketrans(dict.fromkeys(string.punctuation))\n",
    "archivo=open(\"sms.txt\")\n",
    "id=1\n",
    "for linea in archivo:\n",
    "    linea=linea.strip().split(\"\\t\")\n",
    "    s=linea[1].translate(translator)\n",
    "    x=[id,s]\n",
    "    y=[0,1] if linea[0]==\"spam\" else [1,0]\n",
    "    D.append([id,s,y[1]])\n",
    "    X.append(x)\n",
    "    Y.append(y)\n",
    "    id=id+1\n",
    "archivo.close()\n",
    "\n",
    "X=np.asarray(X)\n",
    "Y=np.asarray(Y)\n",
    "df=pd.DataFrame(D,columns=[\"id\",\"message\",\"spam\"])\n",
    "df.astype(\"object\").describe()"
   ]
  },
  {
   "cell_type": "code",
   "execution_count": 3,
   "metadata": {},
   "outputs": [
    {
     "data": {
      "image/png": "[encoded data removed]",
      "text/plain": [
       "<Figure size 432x288 with 1 Axes>"
      ]
     },
     "metadata": {},
     "output_type": "display_data"
    }
   ],
   "source": [
    "df.groupby(\"spam\")[\"message\"].\\\n",
    "agg(\"count\").plot.pie(title=\"Distribución de mensajes\",\n",
    "            labels=[\"no spam\",\"spam\"]);"
   ]
  },
  {
   "cell_type": "code",
   "execution_count": 4,
   "metadata": {},
   "outputs": [
    {
     "name": "stderr",
     "output_type": "stream",
     "text": [
      "2023-06-24 11:34:01.278940: I tensorflow/core/platform/cpu_feature_guard.cc:182] This TensorFlow binary is optimized to use available CPU instructions in performance-critical operations.\n",
      "To enable the following instructions: AVX2 FMA, in other operations, rebuild TensorFlow with the appropriate compiler flags.\n"
     ]
    },
    {
     "name": "stdout",
     "output_type": "stream",
     "text": [
      "['to', 'i', 'you', 'a', 'the', 'u', 'and', 'is', 'in', 'me']\n",
      "9656\n"
     ]
    }
   ],
   "source": [
    "from keras.preprocessing.text import Tokenizer\n",
    "from keras.utils import pad_sequences\n",
    "\n",
    "tokenizer = Tokenizer()\n",
    "tokenizer.fit_on_texts(X[:,1])\n",
    "words=list(tokenizer.word_index.keys())\n",
    "print(words[0:10])\n",
    "vocabulary=len(words)+1\n",
    "print(vocabulary)"
   ]
  },
  {
   "cell_type": "code",
   "execution_count": 5,
   "metadata": {},
   "outputs": [],
   "source": [
    "seed=12122008\n",
    "base_x_train, base_x_test, y_train, y_test = train_test_split(\n",
    "            X, Y, test_size=0.1, stratify=Y, random_state=seed)\n",
    "base_x_train, base_x_val, y_train, y_val = train_test_split(\n",
    "            base_x_train,y_train, test_size=0.1, stratify=y_train, random_state=seed)"
   ]
  },
  {
   "cell_type": "code",
   "execution_count": 6,
   "metadata": {},
   "outputs": [
    {
     "name": "stdout",
     "output_type": "stream",
     "text": [
      "171 171 171\n"
     ]
    }
   ],
   "source": [
    "x_train=base_x_train[:,1]\n",
    "x_test=base_x_test[:,1]\n",
    "x_val=base_x_val[:,1]\n",
    "pd.DataFrame(base_x_train).to_csv(\"base_x_train.csv\",index=False,header=False,sep=\"\\t\")\n",
    "pd.DataFrame(base_x_test).to_csv(\"base_x_test.csv\",index=False,header=False,sep=\"\\t\")\n",
    "pd.DataFrame(base_x_val).to_csv(\"base_x_val.csv\",index=False,header=False,sep=\"\\t\")\n",
    "\n",
    "x_train_s = tokenizer.texts_to_sequences(x_train)\n",
    "x_train_s = pad_sequences(x_train_s,maxlen=171)\n",
    "x_test_s = tokenizer.texts_to_sequences(x_test)\n",
    "x_test_s = pad_sequences(x_test_s,maxlen=171)\n",
    "x_val_s= tokenizer.texts_to_sequences(x_val)\n",
    "x_val_s = pad_sequences(x_val_s,maxlen=171)\n",
    "print(len(x_train_s[0]),len(x_val_s[0]),len(x_test_s[0]))"
   ]
  },
  {
   "cell_type": "code",
   "execution_count": 7,
   "metadata": {},
   "outputs": [],
   "source": [
    "pd.DataFrame(x_train_s).to_csv(\"x_train.csv\",index=False,header=False,sep=\"\\t\")\n",
    "pd.DataFrame(y_train).to_csv(\"y_train.csv\",index=False,header=False,sep=\"\\t\")\n",
    "pd.DataFrame(x_test_s).to_csv(\"x_test.csv\",index=False,header=False,sep=\"\\t\")\n",
    "pd.DataFrame(y_test).to_csv(\"y_test.csv\",index=False,header=False,sep=\"\\t\")\n",
    "pd.DataFrame(x_val_s).to_csv(\"x_val.csv\",index=False,header=False,sep=\"\\t\")\n",
    "pd.DataFrame(y_val).to_csv(\"y_val.csv\",index=False,header=False,sep=\"\\t\")"
   ]
  }
 ],
 "metadata": {
  "kernelspec": {
   "display_name": "Python 3",
   "language": "python",
   "name": "python3"
  },
  "language_info": {
   "codemirror_mode": {
    "name": "ipython",
    "version": 3
   },
   "file_extension": ".py",
   "mimetype": "text/x-python",
   "name": "python",
   "nbconvert_exporter": "python",
   "pygments_lexer": "ipython3",
   "version": "3.10.4"
  },
  "orig_nbformat": 4
 },
 "nbformat": 4,
 "nbformat_minor": 2
}
