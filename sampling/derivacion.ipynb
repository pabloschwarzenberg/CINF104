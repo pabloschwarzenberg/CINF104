{
 "cells": [
  {
   "cell_type": "code",
   "execution_count": 1,
   "metadata": {},
   "outputs": [],
   "source": [
    "from sympy import *"
   ]
  },
  {
   "cell_type": "code",
   "execution_count": 45,
   "metadata": {},
   "outputs": [],
   "source": [
    "v1=Symbol(\"v1\")\n",
    "v2=Symbol(\"v2\")\n",
    "y1=Symbol(\"y1\")\n",
    "y2=Symbol(\"y2\")\n",
    "o1=exp(v1)/(exp(v1)+exp(v2))\n",
    "o2=exp(v2)/(exp(v1)+exp(v2))\n",
    "L=-(y1*ln(o1)+y2*ln(o2))"
   ]
  },
  {
   "cell_type": "code",
   "execution_count": 46,
   "metadata": {},
   "outputs": [
    {
     "data": {
      "text/latex": [
       "$\\displaystyle \\frac{e^{v_{1}}}{e^{v_{1}} + e^{v_{2}}}$"
      ],
      "text/plain": [
       "exp(v1)/(exp(v1) + exp(v2))"
      ]
     },
     "execution_count": 46,
     "metadata": {},
     "output_type": "execute_result"
    }
   ],
   "source": [
    "o1"
   ]
  },
  {
   "cell_type": "code",
   "execution_count": 47,
   "metadata": {},
   "outputs": [
    {
     "data": {
      "text/latex": [
       "$\\displaystyle - y_{1} \\left(\\frac{e^{v_{1}}}{e^{v_{1}} + e^{v_{2}}} - \\frac{e^{2 v_{1}}}{\\left(e^{v_{1}} + e^{v_{2}}\\right)^{2}}\\right) \\left(e^{v_{1}} + e^{v_{2}}\\right) e^{- v_{1}} + \\frac{y_{2} e^{v_{1}}}{e^{v_{1}} + e^{v_{2}}}$"
      ],
      "text/plain": [
       "-y1*(exp(v1)/(exp(v1) + exp(v2)) - exp(2*v1)/(exp(v1) + exp(v2))**2)*(exp(v1) + exp(v2))*exp(-v1) + y2*exp(v1)/(exp(v1) + exp(v2))"
      ]
     },
     "execution_count": 47,
     "metadata": {},
     "output_type": "execute_result"
    }
   ],
   "source": [
    "dv1=diff(L,v1)\n",
    "dv1"
   ]
  },
  {
   "cell_type": "code",
   "execution_count": 24,
   "metadata": {},
   "outputs": [
    {
     "data": {
      "text/latex": [
       "$\\displaystyle \\frac{y_{1} e^{v_{2}}}{e^{v_{1}} + e^{v_{2}}} - y_{2} \\left(\\frac{e^{v_{2}}}{e^{v_{1}} + e^{v_{2}}} - \\frac{e^{2 v_{2}}}{\\left(e^{v_{1}} + e^{v_{2}}\\right)^{2}}\\right) \\left(e^{v_{1}} + e^{v_{2}}\\right) e^{- v_{2}}$"
      ],
      "text/plain": [
       "y1*exp(v2)/(exp(v1) + exp(v2)) - y2*(exp(v2)/(exp(v1) + exp(v2)) - exp(2*v2)/(exp(v1) + exp(v2))**2)*(exp(v1) + exp(v2))*exp(-v2)"
      ]
     },
     "execution_count": 24,
     "metadata": {},
     "output_type": "execute_result"
    }
   ],
   "source": [
    "dv2=diff(L,v2)\n",
    "dv2"
   ]
  },
  {
   "cell_type": "code",
   "execution_count": 25,
   "metadata": {},
   "outputs": [
    {
     "data": {
      "text/latex": [
       "$\\displaystyle \\frac{- y_{1} e^{v_{2}} + y_{2} e^{v_{1}}}{e^{v_{1}} + e^{v_{2}}}$"
      ],
      "text/plain": [
       "(-y1*exp(v2) + y2*exp(v1))/(exp(v1) + exp(v2))"
      ]
     },
     "execution_count": 25,
     "metadata": {},
     "output_type": "execute_result"
    }
   ],
   "source": [
    "dv1s=simplify(dv1)\n",
    "dv1s"
   ]
  },
  {
   "cell_type": "code",
   "execution_count": 26,
   "metadata": {},
   "outputs": [
    {
     "data": {
      "text/latex": [
       "$\\displaystyle - \\frac{y_{1} e^{v_{2}}}{e^{v_{1}} + e^{v_{2}}} + \\frac{y_{2} e^{v_{1}}}{e^{v_{1}} + e^{v_{2}}}$"
      ],
      "text/plain": [
       "-y1*exp(v2)/(exp(v1) + exp(v2)) + y2*exp(v1)/(exp(v1) + exp(v2))"
      ]
     },
     "execution_count": 26,
     "metadata": {},
     "output_type": "execute_result"
    }
   ],
   "source": [
    "expand(dv1s)"
   ]
  },
  {
   "cell_type": "code",
   "execution_count": 27,
   "metadata": {},
   "outputs": [
    {
     "data": {
      "text/latex": [
       "$\\displaystyle \\frac{y_{1} e^{v_{2}} - y_{2} e^{v_{1}}}{e^{v_{1}} + e^{v_{2}}}$"
      ],
      "text/plain": [
       "(y1*exp(v2) - y2*exp(v1))/(exp(v1) + exp(v2))"
      ]
     },
     "execution_count": 27,
     "metadata": {},
     "output_type": "execute_result"
    }
   ],
   "source": [
    "dv2s=simplify(dv2)\n",
    "dv2s"
   ]
  },
  {
   "cell_type": "code",
   "execution_count": 28,
   "metadata": {},
   "outputs": [
    {
     "data": {
      "text/latex": [
       "$\\displaystyle \\frac{y_{1} e^{v_{2}}}{e^{v_{1}} + e^{v_{2}}} - \\frac{y_{2} e^{v_{1}}}{e^{v_{1}} + e^{v_{2}}}$"
      ],
      "text/plain": [
       "y1*exp(v2)/(exp(v1) + exp(v2)) - y2*exp(v1)/(exp(v1) + exp(v2))"
      ]
     },
     "execution_count": 28,
     "metadata": {},
     "output_type": "execute_result"
    }
   ],
   "source": [
    "expand(dv2s)"
   ]
  },
  {
   "cell_type": "code",
   "execution_count": 31,
   "metadata": {},
   "outputs": [],
   "source": [
    "x=Symbol(\"x\")"
   ]
  },
  {
   "cell_type": "code",
   "execution_count": 32,
   "metadata": {},
   "outputs": [
    {
     "data": {
      "text/latex": [
       "$\\displaystyle \\frac{1}{1 + e^{- x}}$"
      ],
      "text/plain": [
       "1/(1 + exp(-x))"
      ]
     },
     "execution_count": 32,
     "metadata": {},
     "output_type": "execute_result"
    }
   ],
   "source": [
    "sig=1/(1+exp(-x))\n",
    "sig"
   ]
  },
  {
   "cell_type": "code",
   "execution_count": 33,
   "metadata": {},
   "outputs": [
    {
     "data": {
      "text/latex": [
       "$\\displaystyle \\frac{e^{- x}}{\\left(1 + e^{- x}\\right)^{2}}$"
      ],
      "text/plain": [
       "exp(-x)/(1 + exp(-x))**2"
      ]
     },
     "execution_count": 33,
     "metadata": {},
     "output_type": "execute_result"
    }
   ],
   "source": [
    "dsig=diff(sig,x)\n",
    "dsig"
   ]
  }
 ],
 "metadata": {
  "kernelspec": {
   "display_name": "Python 3",
   "language": "python",
   "name": "python3"
  },
  "language_info": {
   "codemirror_mode": {
    "name": "ipython",
    "version": 3
   },
   "file_extension": ".py",
   "mimetype": "text/x-python",
   "name": "python",
   "nbconvert_exporter": "python",
   "pygments_lexer": "ipython3",
   "version": "3.11.8"
  }
 },
 "nbformat": 4,
 "nbformat_minor": 2
}
